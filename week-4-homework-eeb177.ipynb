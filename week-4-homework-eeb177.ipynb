{
 "cells": [
  {
   "cell_type": "code",
   "execution_count": 2,
   "metadata": {
    "collapsed": false
   },
   "outputs": [
    {
     "name": "stdout",
     "output_type": "stream",
     "text": [
      "tCTGtTCGtTTtCGTtTtGTtTTTGCTtTCtTtCtTtTtTtTCGtTGCGTTCtT\n",
      "tCaGtaCGtaatCGatatGataaaGCataCtatCtatatataCGtaGCGaaCta\n",
      "tgaGtagGtaatgGatatGataaaGgatagtatgtatatatagGtaGgGaagta\n",
      "tgactagctaatgcatatcataaacgatagtatgtatatatagctacgcaagta\n",
      "TGACTAGCTAATGCATATCATAAACGATAGTATGTATATATAGCTACGCAAGTA\n"
     ]
    }
   ],
   "source": [
    "#Complementing DNA\n",
    "my_dna = \"ACTGATCGATTACGTATAGTATTTGCTATCATACATATATATCGATGCGTTCAT\"\n",
    "replacement1 = my_dna.replace('A', 't')\n",
    "print(replacement1)\n",
    "replacement2 = replacement1.replace('T', 'a')\n",
    "print(replacement2)\n",
    "replacement3 = replacement2.replace('C', 'g')\n",
    "print(replacement3)\n",
    "replacement4 = replacement3.replace('G', 'c')\n",
    "print(replacement4)\n",
    "print(replacement4.upper())"
   ]
  },
  {
   "cell_type": "code",
   "execution_count": 3,
   "metadata": {
    "collapsed": false
   },
   "outputs": [
    {
     "name": "stdout",
     "output_type": "stream",
     "text": [
      "length of fragment one is 22\n",
      "length of fragment two is 33\n"
     ]
    }
   ],
   "source": [
    "#Restriction Fragment Length\n",
    "my_dna = \"ACTGATCGATTACGTATAGTAGAATTCTATCATACATATATATCGATGCGTTCAT\"\n",
    "frag1_length = my_dna.find(\"GAATTC\") + 1\n",
    "frag2_length = len(my_dna) - frag1_length\n",
    "print(\"length of fragment one is \" + str(frag1_length))\n",
    "print(\"length of fragment two is \" + str(frag2_length))"
   ]
  },
  {
   "cell_type": "code",
   "execution_count": 4,
   "metadata": {
    "collapsed": false
   },
   "outputs": [
    {
     "name": "stdout",
     "output_type": "stream",
     "text": [
      "ATCGATCGATCGATCGACTGACTAGTCATAGCTATGCATGTAGCTACTCGATCGATCGATCGATCATCGATCGATATCGATGCATCGACTACTAT\n"
     ]
    }
   ],
   "source": [
    "#Splicing Out Introns, Part 1\n",
    "my_dna = \"ATCGATCGATCGATCGACTGACTAGTCATAGCTATGCATGTAGCTACTCGATCGATCGATCGATCGATCGATCGATCGATCGATCATGCTATCATCGATCGATATCGATGCATCGACTACTAT\"\n",
    "exon1 = my_dna[0:62]\n",
    "exon2 = my_dna[90:10000]\n",
    "print(exon1 + exon2)"
   ]
  },
  {
   "cell_type": "code",
   "execution_count": 6,
   "metadata": {
    "collapsed": false
   },
   "outputs": [
    {
     "name": "stdout",
     "output_type": "stream",
     "text": [
      "77.23577235772358\n"
     ]
    }
   ],
   "source": [
    "#Splicing Out Introns, Part 2\n",
    "my_dna = \"ATCGATCGATCGATCGACTGACTAGTCATAGCTATGCATGTAGCTACTCGATCGATCGATCGATCGATCGATCGATCGATCGATCATGCTATCATCGATCGATATCGATGCATCGACTACTAT\"\n",
    "exon1 = my_dna[0:62]\n",
    "exon2 = my_dna[90:10000]\n",
    "coding_length = len(exon1 + exon2)\n",
    "total_length = len(my_dna)\n",
    "print(100 * coding_length / total_length)"
   ]
  },
  {
   "cell_type": "code",
   "execution_count": 10,
   "metadata": {
    "collapsed": false
   },
   "outputs": [
    {
     "name": "stdout",
     "output_type": "stream",
     "text": [
      "ATCGATCGATCGATCGACTGACTAGTCATAGCTATGCATGTAGCTACTCGATCGATCGATCGatcgatcgatcgatcgatcgatcatgctATCATCGATCGATATCGATGCATCGACTACTAT\n"
     ]
    }
   ],
   "source": [
    "#Splicing Out Introns, Part 3\n",
    "my_dna = \"ATCGATCGATCGATCGACTGACTAGTCATAGCTATGCATGTAGCTACTCGATCGATCGATCGATCGATCGATCGATCGATCGATCATGCTATCATCGATCGATATCGATGCATCGACTACTAT\"\n",
    "exon1 = my_dna[0:62]\n",
    "intron = my_dna[62:90]\n",
    "exon2 = my_dna[90:10000]\n",
    "print(exon1 + intron.lower() + exon2)"
   ]
  },
  {
   "cell_type": "code",
   "execution_count": 14,
   "metadata": {
    "collapsed": false
   },
   "outputs": [
    {
     "name": "stdout",
     "output_type": "stream",
     "text": [
      "28\n"
     ]
    }
   ],
   "source": [
    "#Splitting Genomic DNA\n",
    "dna_file = open(\"/home/eeb177-student/Desktop/EEB-177/Chapter_3/exercises/genomic_dna.txt\")\n",
    "my_dna = dna_file.read()\n",
    "\n",
    "exon1 = my_dna[0:62]\n",
    "intron = my_dna[62:90]\n",
    "exon2 = my_dna[90:10000]\n",
    "\n",
    "coding_file = open(\"coding_dna.txt\", \"w\")\n",
    "noncoding_file = open(\"noncoding_dna.txt\", \"w\")\n",
    "\n",
    "coding_file.write(exon1 + exon2)\n",
    "noncoding_file.write(intron)"
   ]
  },
  {
   "cell_type": "code",
   "execution_count": 12,
   "metadata": {
    "collapsed": false
   },
   "outputs": [
    {
     "data": {
      "text/plain": [
       "33"
      ]
     },
     "execution_count": 12,
     "metadata": {},
     "output_type": "execute_result"
    }
   ],
   "source": [
    "#Writing a FASTA File\n",
    "header_1 = \"ABC123\"\n",
    "header_2 = \"DEF456\"\n",
    "header_3 = \"HIJ789\"\n",
    "seq_1 = \"ATCGTACGATCGATCGATCGCTAGACGTATCG\"\n",
    "seq_2 = \"actgatcgacgatcgatcgatcacgact\"\n",
    "seq_3 = \"ACTGAC-ACTGT—ACTGTA----CATGTG\"\n",
    "output = open(\"sequences.fasta\", \"w\")\n",
    "output.write('>' + header_1 + '\\n' + seq_1 + '\\n') \n",
    "output.write('>' + header_2 + '\\n' + seq_2.upper() + '\\n') \n",
    "output.write('>' + header_3 + '\\n' + seq_3.replace('-', '') + '\\n')"
   ]
  },
  {
   "cell_type": "code",
   "execution_count": 13,
   "metadata": {
    "collapsed": false
   },
   "outputs": [
    {
     "name": "stdout",
     "output_type": "stream",
     "text": [
      "processed sequence with length 43\n",
      "processed sequence with length 38\n",
      "processed sequence with length 49\n",
      "processed sequence with length 34\n",
      "processed sequence with length 48\n"
     ]
    }
   ],
   "source": [
    "#Processing DNA in a File\n",
    "file = open(\"/home/eeb177-student/Desktop/eeb-177/Chapter_4/exercises/input.txt\") \n",
    "output = open(\"trimmed.txt\", \"w\")\n",
    "for dna in file: \n",
    "    last_character_position = len(dna) \n",
    "    trimmed_dna = dna[14:last_character_position]\n",
    "    output.write(trimmed_dna)\n",
    "    print(\"processed sequence with length \" + str(len(trimmed_dna)))"
   ]
  },
  {
   "cell_type": "code",
   "execution_count": null,
   "metadata": {
    "collapsed": true
   },
   "outputs": [],
   "source": [
    "#Multiple Exons from Genomic DNA \n",
    "genomic_dna = open(\"/home/eeb177-student/Desktop/EEB-177/Chapter_4/exercises/genomic_dna.txt\").read()\n",
    "exon_locations = open(\"/home/eeb177-student/Desktop/EEB-177/Chapter_4/exercises/exons.txt\")\n",
    "coding_sequence = \"\"\n",
    "for line in exon_locations:\n",
    "    positions = line.split(',')\n",
    "    start = int(positions[0])\n",
    "    stop = int(positions[1])\n",
    "    exon = genomic_dna[start:stop]\n",
    "    coding_sequence = coding_sequence + exon \n",
    "output = open(\"coding_sequence.txt\", \"w\")\n",
    "output.write(coding_sequence)\n",
    "output.close()"
   ]
  }
 ],
 "metadata": {
  "anaconda-cloud": {},
  "kernelspec": {
   "display_name": "Python [default]",
   "language": "python",
   "name": "python3"
  },
  "language_info": {
   "codemirror_mode": {
    "name": "ipython",
    "version": 3
   },
   "file_extension": ".py",
   "mimetype": "text/x-python",
   "name": "python",
   "nbconvert_exporter": "python",
   "pygments_lexer": "ipython3",
   "version": "3.5.2"
  }
 },
 "nbformat": 4,
 "nbformat_minor": 2
}
