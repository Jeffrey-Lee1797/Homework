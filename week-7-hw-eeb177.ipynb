{
 "cells": [
  {
   "cell_type": "markdown",
   "metadata": {},
   "source": [
    "# Web Scraping\n",
    "\n",
    "Flame Angelfish and Mandarinfish \n",
    "\n",
    "1) To get the information off the website: \n",
    "    curl -s http://fishbase.us/summary/SpeciesSummary.php?ID=7814&AT=Flame%20angel%20fish > flamefish.html\n",
    "    curl -s http://fishbase.us/summary/SpeciesSummary.php?ID=12740&AT=mandarinfish > mandarinfish.html\n",
    "   \n",
    "2) To find specific information: \n",
    "    \n",
    "    grep found flamefish.html\n",
    "    grep found mandarinfish.html\n",
    "    \n",
    "    grep \"Max length\" flamefish.html\n",
    "    grep \"Max length\" mandarinfish.html\n",
    "\n",
    "3) The Flame Angelfish (Centropyge loriculus) is found in clear lagoon and seaward reefs from the lower surge zone to a depth of 57 m. Its max length is 15 cm.\n",
    "   The Mandarinfish (Synchiropus picturatus) is found on sandy bottoms of shallow sheltered reefs. Its max length is 7 cm."
   ]
  }
 ],
 "metadata": {
  "anaconda-cloud": {},
  "kernelspec": {
   "display_name": "Python [conda root]",
   "language": "python",
   "name": "conda-root-py"
  },
  "language_info": {
   "codemirror_mode": {
    "name": "ipython",
    "version": 3
   },
   "file_extension": ".py",
   "mimetype": "text/x-python",
   "name": "python",
   "nbconvert_exporter": "python",
   "pygments_lexer": "ipython3",
   "version": "3.5.2"
  }
 },
 "nbformat": 4,
 "nbformat_minor": 2
}
