{
 "cells": [
  {
   "cell_type": "markdown",
   "metadata": {},
   "source": [
    "# Part I: Code Academy Review"
   ]
  },
  {
   "cell_type": "markdown",
   "metadata": {},
   "source": [
    "![Badge 1](/home/eeb177-student/Badge1.png)"
   ]
  },
  {
   "cell_type": "markdown",
   "metadata": {},
   "source": [
    "<img src=https://www.dropbox.com/s/lnii867ohc6p6pc/Badge1.png?dl=0 alt=\"Drawing\" style=\"width: 300px;\"/>"
   ]
  },
  {
   "cell_type": "markdown",
   "metadata": {},
   "source": [
    "![Badge 3](/home/eeb177-student/Badge3.png)"
   ]
  },
  {
   "cell_type": "markdown",
   "metadata": {},
   "source": [
    "![Badge 4](/home/eeb177-student/Badge5.png)"
   ]
  },
  {
   "cell_type": "markdown",
   "metadata": {},
   "source": [
    "![Badge 5](/home/eeb177-student/Badge5.png)"
   ]
  },
  {
   "cell_type": "markdown",
   "metadata": {},
   "source": [
    "![Badge 8](/home/eeb177-student/Badge8.png)"
   ]
  },
  {
   "cell_type": "markdown",
   "metadata": {},
   "source": [
    "![Badge 10](/home/eeb177-student/Badge10.png)"
   ]
  },
  {
   "cell_type": "markdown",
   "metadata": {},
   "source": [
    "![Badge 11](/home/eeb177-student/Badge11.png)"
   ]
  },
  {
   "cell_type": "markdown",
   "metadata": {},
   "source": [
    "![Badge 12](/home/eeb177-student/Functions.png)"
   ]
  },
  {
   "cell_type": "markdown",
   "metadata": {},
   "source": [
    "![Badge 13](/home/eeb177-student/Loops.png)"
   ]
  },
  {
   "cell_type": "markdown",
   "metadata": {},
   "source": [
    "![Badge 14](/home/eeb177-student/PMP.png)"
   ]
  },
  {
   "cell_type": "markdown",
   "metadata": {},
   "source": [
    "I pressed enter too quickly on some pages so here is a screenshot of my entire badge collection:\n",
    "![All Badges](/home/eeb177-student/All.png)"
   ]
  },
  {
   "cell_type": "markdown",
   "metadata": {
    "collapsed": true
   },
   "source": [
    "# Part II: Python for Biologists"
   ]
  },
  {
   "cell_type": "markdown",
   "metadata": {},
   "source": [
    "### Pseudocode\n",
    "\n",
    "We need to use a range command and set the step size to three so that we can  separate the DNA sequence into codons. Each three unit codon can then be used to be translate into the proteins. The length function will also be used to split up the entire sequence. \n",
    "\n",
    "The codons will be put into a dictiory as keys and the proteins as values.\n",
    "\n",
    "A function will take DNA sequences in the dictionary and return it as a protein sequence.\n"
   ]
  },
  {
   "cell_type": "code",
   "execution_count": 4,
   "metadata": {
    "collapsed": false
   },
   "outputs": [
    {
     "name": "stdout",
     "output_type": "stream",
     "text": [
      "MFGTDG\n"
     ]
    }
   ],
   "source": [
    "def translate_dna(dna): \n",
    "    last_codon_start = len(dna) - 2 \n",
    "    protein = \"\" \n",
    "    gencode = {'ATA':'I', 'ATC':'I', 'ATT':'I', 'ATG':'M',\n",
    "               'ACA':'T', 'ACC':'T', 'ACG':'T', 'ACT':'T',\n",
    "               'AAC':'N', 'AAT':'N', 'AAA':'K', 'AAG':'K',\n",
    "               'AGC':'S', 'AGT':'S', 'AGA':'R', 'AGG':'R',\n",
    "               'CTA':'L', 'CTC':'L', 'CTG':'L', 'CTT':'L',\n",
    "               'CCA':'P', 'CCC':'P', 'CCG':'P', 'CCT':'P',\n",
    "               'CAC':'H', 'CAT':'H', 'CAA':'Q', 'CAG':'Q',\n",
    "               'CGA':'R', 'CGC':'R', 'CGG':'R', 'CGT':'R',\n",
    "               'GTA':'V', 'GTC':'V', 'GTG':'V', 'GTT':'V',\n",
    "               'GCA':'A', 'GCC':'A', 'GCG':'A', 'GCT':'A',\n",
    "               'GAC':'D', 'GAT':'D', 'GAA':'E', 'GAG':'E',\n",
    "               'GGA':'G', 'GGC':'G', 'GGG':'G', 'GGT':'G',\n",
    "               'TCA':'S', 'TCC':'S', 'TCG':'S', 'TCT':'S',\n",
    "               'TTC':'F', 'TTT':'F', 'TTA':'L', 'TTG':'L',\n",
    "               'TAC':'Y', 'TAT':'Y', 'TAA':'_', 'TAG':'_',\n",
    "               'TGC':'C', 'TGT':'C', 'TGA':'_', 'TGG':'W'}\n",
    "    for start in range(0,last_codon_start,3): \n",
    "        codon = dna[start:start+3] \n",
    "        aa = gencode.get(codon.upper(), 'X') \n",
    "        protein = protein + aa \n",
    "    return protein \n",
    "print(translate_dna(\"ATGTTCGGTACTGACGGCT\"))"
   ]
  },
  {
   "cell_type": "markdown",
   "metadata": {},
   "source": [
    "# Part III: Allesina and Wilmes"
   ]
  },
  {
   "cell_type": "code",
   "execution_count": 7,
   "metadata": {
    "collapsed": true
   },
   "outputs": [],
   "source": [
    "# Simulation Program 4.3.2\n",
    "import scipy\n",
    "def build_population(N, p):\n",
    "    population = []\n",
    "    for i in range(N):\n",
    "        allele1 = \"A\"\n",
    "        if scipy.random.rand()>p:\n",
    "            allele1 = \"a\"\n",
    "        allele2 = \"A\"\n",
    "        if scipy.random.rand()>p:\n",
    "            allele2 = \"a\"\n",
    "        population.append((allele1,allele2))\n",
    "    return population"
   ]
  },
  {
   "cell_type": "code",
   "execution_count": 8,
   "metadata": {
    "collapsed": false
   },
   "outputs": [
    {
     "data": {
      "text/plain": [
       "[('A', 'A'),\n",
       " ('A', 'A'),\n",
       " ('A', 'A'),\n",
       " ('A', 'a'),\n",
       " ('A', 'a'),\n",
       " ('a', 'A'),\n",
       " ('A', 'A'),\n",
       " ('A', 'A'),\n",
       " ('a', 'A'),\n",
       " ('A', 'A')]"
      ]
     },
     "execution_count": 8,
     "metadata": {},
     "output_type": "execute_result"
    }
   ],
   "source": [
    "build_population(10, 0.7)"
   ]
  },
  {
   "cell_type": "code",
   "execution_count": 9,
   "metadata": {
    "collapsed": true
   },
   "outputs": [],
   "source": [
    "def compute_frequencies(population):\n",
    "    AA = population.count(('A', 'A'))\n",
    "    Aa = population.count(('A', 'a'))\n",
    "    aA = population.count(('a', 'A'))\n",
    "    aa = population.count(('a', 'a'))\n",
    "    return({'AA': AA, 'aa': aa, 'Aa':Aa, 'aA':aA})"
   ]
  },
  {
   "cell_type": "code",
   "execution_count": 10,
   "metadata": {
    "collapsed": false
   },
   "outputs": [
    {
     "data": {
      "text/plain": [
       "[('a', 'a'), ('a', 'a'), ('a', 'a'), ('a', 'a'), ('a', 'a'), ('a', 'a')]"
      ]
     },
     "execution_count": 10,
     "metadata": {},
     "output_type": "execute_result"
    }
   ],
   "source": [
    "my_pop = build_population(6, 0.5)\n",
    "my_pop"
   ]
  },
  {
   "cell_type": "code",
   "execution_count": 11,
   "metadata": {
    "collapsed": false
   },
   "outputs": [
    {
     "data": {
      "text/plain": [
       "{'AA': 0, 'Aa': 0, 'aA': 0, 'aa': 6}"
      ]
     },
     "execution_count": 11,
     "metadata": {},
     "output_type": "execute_result"
    }
   ],
   "source": [
    "compute_frequencies(my_pop)"
   ]
  },
  {
   "cell_type": "code",
   "execution_count": 14,
   "metadata": {
    "collapsed": false
   },
   "outputs": [],
   "source": [
    "def reproduce_population(population):\n",
    "    new_generation = []\n",
    "    N = len(population)\n",
    "    for i in range(N):\n",
    "        dad = scipy.random.randint(N)\n",
    "        mom = scipy.random.randint(2)\n",
    "        chr_mom = scipy.random.randint(2)\n",
    "        offspring = (population[mom], population[dad][1-chr_mom])\n",
    "        new_generation.append(offspring)\n",
    "    return(new_generation)"
   ]
  },
  {
   "cell_type": "code",
   "execution_count": 15,
   "metadata": {
    "collapsed": false
   },
   "outputs": [
    {
     "data": {
      "text/plain": [
       "[(('a', 'a'), 'a'),\n",
       " (('a', 'a'), 'a'),\n",
       " (('a', 'a'), 'a'),\n",
       " (('a', 'a'), 'a'),\n",
       " (('a', 'a'), 'a'),\n",
       " (('a', 'a'), 'a')]"
      ]
     },
     "execution_count": 15,
     "metadata": {},
     "output_type": "execute_result"
    }
   ],
   "source": [
    "reproduce_population(my_pop)"
   ]
  },
  {
   "cell_type": "code",
   "execution_count": 17,
   "metadata": {
    "collapsed": true
   },
   "outputs": [],
   "source": [
    "# import drift\n",
    "# def stimulate_drift(N, p):\n",
    "#     my_pop = build_population(N, p)\n",
    "#     fixation = False\n",
    "#     num_generations = 0\n",
    "#     while fixation == False:\n",
    "#         genotype_counts = compute_frequencies(my_pop)\n",
    "#         if genotype_counts['AA'] == N or genotype_counts['aa'] == N:\n",
    "#             print('An allele reached fixation at generation', num_generations)\n",
    "#             print('The genotype counts are')\n",
    "#             print(genotype_counts)\n",
    "#             fixation == True\n",
    "#             break\n",
    "#         my_pop = reproduce_population(my_pop)\n",
    "#         num_generations = num_generations + 1\n",
    "        \n",
    "# simulate_drift(100, 0.5)"
   ]
  },
  {
   "cell_type": "code",
   "execution_count": 20,
   "metadata": {
    "collapsed": false
   },
   "outputs": [
    {
     "data": {
      "text/plain": [
       "0.39719005173783783"
      ]
     },
     "execution_count": 20,
     "metadata": {},
     "output_type": "execute_result"
    }
   ],
   "source": [
    "# 4.9.1 Part 1\n",
    "\n",
    "Jiang_data=open(\"/home/eeb177-student/Desktop/EEB-177/CSB/python/data/Jiang2013_data.csv\")\n",
    "Jiang=Jiang_data.readlines()\n",
    "\n",
    "def r_calculate(Taxon):\n",
    "    r_values=[]\n",
    "    for line in Jiang:\n",
    "        if len(line.split(\"\\t\"))== 6: \n",
    "            if line.split(\"\\t\")[1] == Taxon:\n",
    "                r_values.append(float(line.split(\"\\t\")[3]))\n",
    "    mean_r=(sum(r_values)/len(r_values))  \n",
    "    return(mean_r)\n",
    "\n",
    "\n",
    "r_calculate(\"Fish\")"
   ]
  },
  {
   "cell_type": "code",
   "execution_count": null,
   "metadata": {
    "collapsed": true
   },
   "outputs": [],
   "source": []
  }
 ],
 "metadata": {},
 "nbformat": 4,
 "nbformat_minor": 2
}
